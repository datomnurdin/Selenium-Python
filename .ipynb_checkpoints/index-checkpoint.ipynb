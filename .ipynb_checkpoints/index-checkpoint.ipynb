{
 "cells": [
  {
   "cell_type": "code",
   "execution_count": 1,
   "metadata": {},
   "outputs": [],
   "source": [
    "import time\n",
    "\n",
    "from selenium import webdriver\n",
    "from bs4 import BeautifulSoup\n",
    "\n",
    "driver = webdriver.Chrome('./chromedriver')\n",
    "driver.get(\"https://www.ebay.com\")"
   ]
  },
  {
   "cell_type": "code",
   "execution_count": 2,
   "metadata": {},
   "outputs": [],
   "source": [
    "#PAGE 1\n",
    "driver.find_element_by_id(\"gh-ac\").send_keys(\"charizard gx hyper rare\")\n",
    "\n",
    "time.sleep(1)\n",
    "driver.find_element_by_id(\"gh-btn\").click()"
   ]
  },
  {
   "cell_type": "code",
   "execution_count": 3,
   "metadata": {},
   "outputs": [],
   "source": [
    "#PAGE 2\n",
    "soup = BeautifulSoup(driver.page_source,\"html.parser\")\n",
    "soup_link = soup.findAll(\"a\", attrs={\"class\":'s-item__link'})[1]['href']\n",
    "\n",
    "time.sleep(1)\n",
    "driver.get(soup_link)"
   ]
  },
  {
   "cell_type": "code",
   "execution_count": 4,
   "metadata": {},
   "outputs": [],
   "source": [
    "#PAGE 3\n",
    "soup = BeautifulSoup(driver.page_source,\"html.parser\")\n",
    "soup_button = soup.find(\"a\", attrs={\"id\":'atcRedesignId_btn'})['href']\n",
    "\n",
    "time.sleep(1)\n",
    "driver.get(soup_button)"
   ]
  }
 ],
 "metadata": {
  "kernelspec": {
   "display_name": "Python 3",
   "language": "python",
   "name": "python3"
  },
  "language_info": {
   "codemirror_mode": {
    "name": "ipython",
    "version": 3
   },
   "file_extension": ".py",
   "mimetype": "text/x-python",
   "name": "python",
   "nbconvert_exporter": "python",
   "pygments_lexer": "ipython3",
   "version": "3.7.0"
  }
 },
 "nbformat": 4,
 "nbformat_minor": 2
}
